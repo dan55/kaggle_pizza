{
 "cells": [
  {
   "cell_type": "code",
   "execution_count": 84,
   "metadata": {},
   "outputs": [],
   "source": [
    "import numpy as np\n",
    "import pandas as pd\n",
    "\n",
    "from sklearn.feature_extraction.text import CountVectorizer\n",
    "from sklearn.linear_model import LogisticRegression\n",
    "from sklearn.model_selection import train_test_split\n",
    "\n",
    "from sklearn import metrics"
   ]
  },
  {
   "cell_type": "code",
   "execution_count": 85,
   "metadata": {},
   "outputs": [],
   "source": [
    "# import the data\n",
    "df_train = pd.read_json('train.json')\n",
    "df_test = pd.read_json('test.json')\n",
    "\n",
    "\n",
    "# drop the target column from the data and use it for the labels\n",
    "classification_column_name = 'requester_received_pizza'\n",
    "\n",
    "train_data = df_train.drop([classification_column_name], axis=1)\n",
    "train_labels = df_train[classification_column_name]\n",
    "\n",
    "\n",
    "# use twenty-five percent of the training data for a dev data set\n",
    "# note that we cannot use the test data set here, because we are not given their labels\n",
    "train_data, dev_data, train_labels, dev_labels = train_test_split(train_data, train_labels, random_state=42)"
   ]
  },
  {
   "cell_type": "code",
   "execution_count": 124,
   "metadata": {},
   "outputs": [
    {
     "name": "stdout",
     "output_type": "stream",
     "text": [
      "The accuracy of a default logistic regression model is 69.7%\n",
      "\n",
      "The F1 scores are:\n",
      "False: 81.02\n",
      "True: 25.0\n"
     ]
    }
   ],
   "source": [
    "def decimal_to_percent(decimal):\n",
    "    return round(decimal * 100, 2)\n",
    "\n",
    "def logistic_regression():\n",
    "    ''' Use a default logistic regression model to determine baseline performance '''\n",
    "    \n",
    "    # use just the text of the post\n",
    "    text_column = 'request_text'\n",
    "    train_text = train_data[text_column]\n",
    "    dev_text = dev_data[text_column]\n",
    "\n",
    "    # construct the term-frequency count matrix\n",
    "    tf_vect = CountVectorizer()\n",
    "    tf = tf_vect.fit(train_text)\n",
    "    tf_train = tf.transform(train_text)\n",
    "    tf_dev = tf.transform(dev_text)\n",
    "\n",
    "    # train a logistic regression model\n",
    "    clf = LogisticRegression()\n",
    "    clf.fit(tf_train, train_labels)\n",
    "\n",
    "    # return the accuracy and F1 scores\n",
    "    predicted = clf.predict(tf_dev)\n",
    "    \n",
    "    f1 = metrics.f1_score(predicted, dev_labels, average=None)\n",
    "\n",
    "    return clf.score(tf_dev, dev_labels), f1 \n",
    "    \n",
    "accuracy, f1_score = logistic_regression() \n",
    "\n",
    "print 'The accuracy of a default logistic regression model is {}%'.format(decimal_to_percent(accuracy))\n",
    "print\n",
    "print 'The F1 scores are:\\nFalse: {}\\nTrue: {}'.format(*[decimal_to_percent(score) for score in f1_score])"
   ]
  },
  {
   "cell_type": "code",
   "execution_count": null,
   "metadata": {
    "collapsed": true
   },
   "outputs": [],
   "source": []
  }
 ],
 "metadata": {
  "kernelspec": {
   "display_name": "Python 2",
   "language": "python",
   "name": "python2"
  },
  "language_info": {
   "codemirror_mode": {
    "name": "ipython",
    "version": 2
   },
   "file_extension": ".py",
   "mimetype": "text/x-python",
   "name": "python",
   "nbconvert_exporter": "python",
   "pygments_lexer": "ipython2",
   "version": "2.7.13"
  }
 },
 "nbformat": 4,
 "nbformat_minor": 2
}
